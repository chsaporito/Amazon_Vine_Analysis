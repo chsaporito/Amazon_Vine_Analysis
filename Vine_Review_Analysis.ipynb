{
  "nbformat": 4,
  "nbformat_minor": 0,
  "metadata": {
    "colab": {
      "provenance": []
    },
    "kernelspec": {
      "name": "python3",
      "display_name": "Python 3"
    },
    "language_info": {
      "name": "python"
    }
  },
  "cells": [
    {
      "cell_type": "code",
      "execution_count": 1,
      "metadata": {
        "colab": {
          "base_uri": "https://localhost:8080/"
        },
        "id": "Q8rCo3PSQQ8R",
        "outputId": "9bd57b65-e9bc-4e97-e2f1-29fcc77f72e7"
      },
      "outputs": [
        {
          "output_type": "stream",
          "name": "stdout",
          "text": [
            "Get:1 https://cloud.r-project.org/bin/linux/ubuntu focal-cran40/ InRelease [3,622 B]\n",
            "Hit:2 http://archive.ubuntu.com/ubuntu focal InRelease\n",
            "Ign:3 https://developer.download.nvidia.com/compute/machine-learning/repos/ubuntu2004/x86_64  InRelease\n",
            "Hit:4 https://developer.download.nvidia.com/compute/cuda/repos/ubuntu2004/x86_64  InRelease\n",
            "Hit:5 https://developer.download.nvidia.com/compute/machine-learning/repos/ubuntu2004/x86_64  Release\n",
            "Hit:6 http://ppa.launchpad.net/c2d4u.team/c2d4u4.0+/ubuntu focal InRelease\n",
            "Get:7 http://security.ubuntu.com/ubuntu focal-security InRelease [114 kB]\n",
            "Get:8 http://archive.ubuntu.com/ubuntu focal-updates InRelease [114 kB]\n",
            "Hit:9 http://ppa.launchpad.net/cran/libgit2/ubuntu focal InRelease\n",
            "Get:11 http://archive.ubuntu.com/ubuntu focal-backports InRelease [108 kB]\n",
            "Hit:12 http://ppa.launchpad.net/deadsnakes/ppa/ubuntu focal InRelease\n",
            "Get:13 http://archive.ubuntu.com/ubuntu focal-updates/main amd64 Packages [2,950 kB]\n",
            "Hit:14 http://ppa.launchpad.net/graphics-drivers/ppa/ubuntu focal InRelease\n",
            "Get:15 http://security.ubuntu.com/ubuntu focal-security/main amd64 Packages [2,476 kB]\n",
            "Get:16 http://archive.ubuntu.com/ubuntu focal-updates/universe amd64 Packages [1,295 kB]\n",
            "Get:17 http://security.ubuntu.com/ubuntu focal-security/restricted amd64 Packages [1,920 kB]\n",
            "Get:18 http://security.ubuntu.com/ubuntu focal-security/universe amd64 Packages [993 kB]\n",
            "Fetched 9,974 kB in 4s (2,481 kB/s)\n",
            "Reading package lists... Done\n"
          ]
        }
      ],
      "source": [
        "import os\n",
        "# Find the latest version of spark 3.2 from http://www.apache.org/dist/spark/ and enter as the spark version\n",
        "# For example:\n",
        "# spark_version = 'spark-3.2.3'\n",
        "spark_version = 'spark-3.2.3'\n",
        "os.environ['SPARK_VERSION']=spark_version\n",
        "\n",
        "# Install Spark and Java\n",
        "!apt-get update\n",
        "!apt-get install openjdk-11-jdk-headless -qq > /dev/null\n",
        "!wget -q http://www.apache.org/dist/spark/$SPARK_VERSION/$SPARK_VERSION-bin-hadoop2.7.tgz\n",
        "!tar xf $SPARK_VERSION-bin-hadoop2.7.tgz\n",
        "!pip install -q findspark\n",
        "\n",
        "# Set Environment Variables\n",
        "import os\n",
        "os.environ[\"JAVA_HOME\"] = \"/usr/lib/jvm/java-11-openjdk-amd64\"\n",
        "os.environ[\"SPARK_HOME\"] = f\"/content/{spark_version}-bin-hadoop2.7\"\n",
        "\n",
        "# Start a SparkSession\n",
        "import findspark\n",
        "findspark.init()"
      ]
    },
    {
      "cell_type": "code",
      "source": [
        "from pyspark.sql import SparkSession\n",
        "spark = SparkSession.builder.appName(\"M17-Amazon-Challenge\").config(\"spark.driver.extraClassPath\",\"/content/postgresql-42.2.16.jar\").getOrCreate()"
      ],
      "metadata": {
        "id": "MRPkH79nRJrH"
      },
      "execution_count": 3,
      "outputs": []
    },
    {
      "cell_type": "code",
      "source": [
        "from pyspark import SparkFiles\n",
        "url = \"https://s3.amazonaws.com/amazon-reviews-pds/tsv/amazon_reviews_us_Music_v1_00.tsv.gz\"\n",
        "spark.sparkContext.addFile(url)\n",
        "df = spark.read.option(\"encoding\", \"UTF-8\").csv(SparkFiles.get(\"\"), sep=\"\\t\", header=True, inferSchema=True)\n",
        "df.show(20)"
      ],
      "metadata": {
        "colab": {
          "base_uri": "https://localhost:8080/"
        },
        "id": "SK8U6cvtQ7zd",
        "outputId": "06536ed3-9683-44e7-fef5-2283021b462a"
      },
      "execution_count": 6,
      "outputs": [
        {
          "output_type": "stream",
          "name": "stdout",
          "text": [
            "+-----------+-----------+--------------+----------+--------------+--------------------+----------------+-----------+-------------+-----------+----+-----------------+--------------------+--------------------+-----------+\n",
            "|marketplace|customer_id|     review_id|product_id|product_parent|       product_title|product_category|star_rating|helpful_votes|total_votes|vine|verified_purchase|     review_headline|         review_body|review_date|\n",
            "+-----------+-----------+--------------+----------+--------------+--------------------+----------------+-----------+-------------+-----------+----+-----------------+--------------------+--------------------+-----------+\n",
            "|         US|   10140119|R3LI5TRP3YIDQL|B00TXH4OLC|     384427924|Whatever's for Us...|           Music|          5|            0|          0|   N|                Y|          Five Stars|Love this CD alon...| 2015-08-31|\n",
            "|         US|   27664622|R3LGC3EKEG84PX|B00B6QXN6U|     831769051|Same Trailer Diff...|           Music|          5|            0|          0|   N|                Y|A new fave in our...|This is the album...| 2015-08-31|\n",
            "|         US|   45946560| R9PYL3OYH55QY|B001GCZXW6|      14067376| Soaring (Jazz Club)|           Music|          5|            0|          1|   N|                Y|          Five Stars|  Excellent / thanks| 2015-08-31|\n",
            "|         US|   15146326|R3PWBAWUS4NT0Q|B000003EK6|     566295619|     CARIBBEAN PARTY|           Music|          3|            0|          0|   N|                Y|         Three Stars|Nice variety of c...| 2015-08-31|\n",
            "|         US|   16794688|R15LYP3O51UU9E|B00N1F0BKK|     210426072|         Pain Killer|           Music|          5|            0|          0|   N|                Y|          Five Stars|Purchased as a gi...| 2015-08-31|\n",
            "|         US|   32203364|R1AD7L0CC3DSRI|B00V7KAO7Q|     360249504|A Thoughtiverse U...|           Music|          5|            0|          0|   N|                Y|Definitely worth ...|Really enjoyed th...| 2015-08-31|\n",
            "|         US|    1194276|R32FE8Y45QV434|B000094Q4P|      20972283|Comfort of Her Wings|           Music|          5|            0|          0|   N|                Y|          Five Stars|            Great CD| 2015-08-31|\n",
            "|         US|   45813052|R3NM4MZ4XWL43Q|B00JMK0P1I|     378049560|Sleep Soundly CD ...|           Music|          5|            1|          2|   N|                Y|          Five Stars|       Excellent CD!| 2015-08-31|\n",
            "|         US|   12795687|R3H4FXX6Q7I37D|B008OW1S3O|     141620702|     An Awesome Wave|           Music|          4|            0|          0|   N|                Y|          Four Stars|                nice| 2015-08-31|\n",
            "|         US|   36673840|R30L5PET7LFFDC|B00VI2L3L4|     920557135|          Blurryface|           Music|          5|            1|          1|   N|                Y|        Outstanding!|Outstanding music...| 2015-08-31|\n",
            "|         US|   49453576|  REFRE1LEKLAF|B0000041EV|     683128964|Mozart For Mother...|           Music|          4|            1|          1|   N|                Y|          Four Stars|      quite relaxing| 2015-08-31|\n",
            "|         US|    3285047|R3JTJ5EQN74E9H|B00005YW4H|     268461622|   Come Away with Me|           Music|          5|            0|          0|   N|                Y|          Five Stars|I love this CD.  ...| 2015-08-31|\n",
            "|         US|   24471201|R1W2F091LCOAW5|B00Q9KEZV0|     444090572| Tomorrow Is My Turn|           Music|          5|            0|          0|   N|                Y|FIve Stars and Th...|Rhiannon Giddens ...| 2015-08-31|\n",
            "|         US|   28049396| RYUMFQRRB1FNM|B00GFXRKHW|     482597726|       The Outsiders|           Music|          3|            0|          0|   N|                Y|         Three Stars|Wrecking Ball is ...| 2015-08-31|\n",
            "|         US|   41137196| RHCS6VVXWV3Q3|B004L3AQ10|     609457123|  The Lincoln Lawyer|           Music|          5|            0|          0|   N|                Y|          Five Stars|I was pleased wit...| 2015-08-31|\n",
            "|         US|   43305401|R35UL1YZ2142SL|B0000025PM|     125399885|Bach: Goldberg Va...|           Music|          5|            0|          0|   N|                Y|   The Creative Flow|The music that in...| 2015-08-31|\n",
            "|         US|   50808489|  RU1O6QD1LEBB|B00701QUN8|     144457491|Quiet Riot - Grea...|           Music|          5|            0|          0|   N|                Y|          Five Stars|   Excellent CD&#62;| 2015-08-31|\n",
            "|         US|   15536614|R36RXVL3XIZFH7|B003UJC2QI|     207971309|Love Or Money/Lov...|           Music|          5|            0|          0|   N|                N|    Great Pop Single|Love Or Money by ...| 2015-08-31|\n",
            "|         US|   32536909|R16O7SHYHLEYA1|B00LGA16J2|     760666287|Jonas Kaufmann - ...|           Music|          5|            0|          0|   N|                Y|          Five Stars|      Just splendid!| 2015-08-31|\n",
            "|         US|   51160312|R1Y5GX65Z2V9BG|B00ZGVMLLE|      37408836|        Clockworking|           Music|          5|            0|          0|   N|                N|Glorious Glorious...|One of my favorit...| 2015-08-31|\n",
            "+-----------+-----------+--------------+----------+--------------+--------------------+----------------+-----------+-------------+-----------+----+-----------------+--------------------+--------------------+-----------+\n",
            "only showing top 20 rows\n",
            "\n"
          ]
        }
      ]
    },
    {
      "cell_type": "code",
      "source": [
        "# Create the vine_table. DataFrame\n",
        "vine_df = df.select(['review_id', 'star_rating', 'helpful_votes', 'total_votes', 'vine', 'verified_purchase'])\n",
        "vine_df.show(20)"
      ],
      "metadata": {
        "colab": {
          "base_uri": "https://localhost:8080/"
        },
        "id": "1ppBsdT9RV4t",
        "outputId": "10a73152-9268-4624-9c07-bfab577e65b1"
      },
      "execution_count": 7,
      "outputs": [
        {
          "output_type": "stream",
          "name": "stdout",
          "text": [
            "+--------------+-----------+-------------+-----------+----+-----------------+\n",
            "|     review_id|star_rating|helpful_votes|total_votes|vine|verified_purchase|\n",
            "+--------------+-----------+-------------+-----------+----+-----------------+\n",
            "|R3LI5TRP3YIDQL|          5|            0|          0|   N|                Y|\n",
            "|R3LGC3EKEG84PX|          5|            0|          0|   N|                Y|\n",
            "| R9PYL3OYH55QY|          5|            0|          1|   N|                Y|\n",
            "|R3PWBAWUS4NT0Q|          3|            0|          0|   N|                Y|\n",
            "|R15LYP3O51UU9E|          5|            0|          0|   N|                Y|\n",
            "|R1AD7L0CC3DSRI|          5|            0|          0|   N|                Y|\n",
            "|R32FE8Y45QV434|          5|            0|          0|   N|                Y|\n",
            "|R3NM4MZ4XWL43Q|          5|            1|          2|   N|                Y|\n",
            "|R3H4FXX6Q7I37D|          4|            0|          0|   N|                Y|\n",
            "|R30L5PET7LFFDC|          5|            1|          1|   N|                Y|\n",
            "|  REFRE1LEKLAF|          4|            1|          1|   N|                Y|\n",
            "|R3JTJ5EQN74E9H|          5|            0|          0|   N|                Y|\n",
            "|R1W2F091LCOAW5|          5|            0|          0|   N|                Y|\n",
            "| RYUMFQRRB1FNM|          3|            0|          0|   N|                Y|\n",
            "| RHCS6VVXWV3Q3|          5|            0|          0|   N|                Y|\n",
            "|R35UL1YZ2142SL|          5|            0|          0|   N|                Y|\n",
            "|  RU1O6QD1LEBB|          5|            0|          0|   N|                Y|\n",
            "|R36RXVL3XIZFH7|          5|            0|          0|   N|                N|\n",
            "|R16O7SHYHLEYA1|          5|            0|          0|   N|                Y|\n",
            "|R1Y5GX65Z2V9BG|          5|            0|          0|   N|                N|\n",
            "+--------------+-----------+-------------+-----------+----+-----------------+\n",
            "only showing top 20 rows\n",
            "\n"
          ]
        }
      ]
    },
    {
      "cell_type": "code",
      "source": [
        "from pyspark.sql.functions import col #importing col function\n",
        "total_votes_df = vine_df.filter(col(\"total_votes\") >= 20)\n",
        "total_votes_df.show(20)"
      ],
      "metadata": {
        "colab": {
          "base_uri": "https://localhost:8080/"
        },
        "id": "8v4_NGRfSo-8",
        "outputId": "e6287b9f-bcdf-4b16-99aa-b33a055c699c"
      },
      "execution_count": 8,
      "outputs": [
        {
          "output_type": "stream",
          "name": "stdout",
          "text": [
            "+--------------+-----------+-------------+-----------+----+-----------------+\n",
            "|     review_id|star_rating|helpful_votes|total_votes|vine|verified_purchase|\n",
            "+--------------+-----------+-------------+-----------+----+-----------------+\n",
            "|R2SHXRL6SL1GC9|          3|           25|         26|   N|                Y|\n",
            "|R2ZC033X86YOY8|          5|           25|         26|   N|                N|\n",
            "|R2736RJGCOSL80|          5|           19|         20|   N|                Y|\n",
            "| RRY5DJ6J9BKAX|          5|           19|         21|   N|                Y|\n",
            "|R2P4PJJ2ROTPBM|          5|           46|         48|   N|                N|\n",
            "| RO8RAEGB66BKR|          4|           46|         46|   N|                N|\n",
            "| RRFZ7QZTRJC59|          5|          292|        300|   N|                N|\n",
            "| RFN4PNRUD1UW2|          4|           21|         22|   N|                N|\n",
            "| RO7EBJEP7IHIX|          5|           26|         26|   N|                N|\n",
            "|R1CVS4MK9RTNNP|          2|           11|         22|   N|                N|\n",
            "| REIWYIGFMEKEV|          5|           26|         30|   N|                Y|\n",
            "|R2FV27WWRWROZU|          4|           26|         27|   N|                N|\n",
            "|R30I82JFOSSJMA|          3|           14|         20|   N|                Y|\n",
            "|R2FUEC06SD2TZ1|          1|            2|         24|   N|                Y|\n",
            "|R16QHOYRY9QLQU|          5|           36|         39|   N|                N|\n",
            "|R1CQON45M11K9Q|          5|          125|        131|   N|                Y|\n",
            "|R1WYWVRXAGND36|          5|           24|         25|   N|                N|\n",
            "| R6RZ581R948P7|          1|           29|         42|   N|                Y|\n",
            "| RBRZ21U9GFORT|          5|           28|         33|   N|                N|\n",
            "|R2Y6OCM9IEH9QO|          1|           12|         21|   N|                N|\n",
            "+--------------+-----------+-------------+-----------+----+-----------------+\n",
            "only showing top 20 rows\n",
            "\n"
          ]
        }
      ]
    },
    {
      "cell_type": "code",
      "source": [
        "from pyspark.sql.functions import concat,lit,round\n",
        "helpful_total_df = total_votes_df.withColumn('helpful_total_ratio',round(col(\"helpful_votes\") / col(\"total_votes\")*100,0))\n",
        "helpful_total_df= helpful_total_df.filter(col(\"helpful_total_ratio\") >= 50)\n",
        "helpful_total_df= helpful_total_df.withColumn('helpful_total_ratio',concat(col(\"helpful_total_ratio\").cast(\"int\"),lit('%')))\n",
        "helpful_total_df.show(20)\n"
      ],
      "metadata": {
        "colab": {
          "base_uri": "https://localhost:8080/"
        },
        "id": "zUh9rjSDTm3J",
        "outputId": "a5f19fda-f1b4-4dff-e87f-cf2f9b0ce1b8"
      },
      "execution_count": 31,
      "outputs": [
        {
          "output_type": "stream",
          "name": "stdout",
          "text": [
            "+--------------+-----------+-------------+-----------+----+-----------------+-------------------+\n",
            "|     review_id|star_rating|helpful_votes|total_votes|vine|verified_purchase|helpful_total_ratio|\n",
            "+--------------+-----------+-------------+-----------+----+-----------------+-------------------+\n",
            "|R2SHXRL6SL1GC9|          3|           25|         26|   N|                Y|                96%|\n",
            "|R2ZC033X86YOY8|          5|           25|         26|   N|                N|                96%|\n",
            "|R2736RJGCOSL80|          5|           19|         20|   N|                Y|                95%|\n",
            "| RRY5DJ6J9BKAX|          5|           19|         21|   N|                Y|                90%|\n",
            "|R2P4PJJ2ROTPBM|          5|           46|         48|   N|                N|                96%|\n",
            "| RO8RAEGB66BKR|          4|           46|         46|   N|                N|               100%|\n",
            "| RRFZ7QZTRJC59|          5|          292|        300|   N|                N|                97%|\n",
            "| RFN4PNRUD1UW2|          4|           21|         22|   N|                N|                95%|\n",
            "| RO7EBJEP7IHIX|          5|           26|         26|   N|                N|               100%|\n",
            "|R1CVS4MK9RTNNP|          2|           11|         22|   N|                N|                50%|\n",
            "| REIWYIGFMEKEV|          5|           26|         30|   N|                Y|                87%|\n",
            "|R2FV27WWRWROZU|          4|           26|         27|   N|                N|                96%|\n",
            "|R30I82JFOSSJMA|          3|           14|         20|   N|                Y|                70%|\n",
            "|R16QHOYRY9QLQU|          5|           36|         39|   N|                N|                92%|\n",
            "|R1CQON45M11K9Q|          5|          125|        131|   N|                Y|                95%|\n",
            "|R1WYWVRXAGND36|          5|           24|         25|   N|                N|                96%|\n",
            "| R6RZ581R948P7|          1|           29|         42|   N|                Y|                69%|\n",
            "| RBRZ21U9GFORT|          5|           28|         33|   N|                N|                85%|\n",
            "|R2Y6OCM9IEH9QO|          1|           12|         21|   N|                N|                57%|\n",
            "|R26I5D95TEK226|          5|           52|         56|   N|                N|                93%|\n",
            "+--------------+-----------+-------------+-----------+----+-----------------+-------------------+\n",
            "only showing top 20 rows\n",
            "\n"
          ]
        }
      ]
    },
    {
      "cell_type": "code",
      "source": [
        "review_paid_df=helpful_total_df.filter(col(\"vine\") == 'Y')\n",
        "review_paid_df.show(20)"
      ],
      "metadata": {
        "colab": {
          "base_uri": "https://localhost:8080/"
        },
        "id": "U0AC32Kyd-be",
        "outputId": "a8b8b37e-eb11-4fa4-b03d-6296c4434a4b"
      },
      "execution_count": 34,
      "outputs": [
        {
          "output_type": "stream",
          "name": "stdout",
          "text": [
            "+--------------+-----------+-------------+-----------+----+-----------------+-------------------+\n",
            "|     review_id|star_rating|helpful_votes|total_votes|vine|verified_purchase|helpful_total_ratio|\n",
            "+--------------+-----------+-------------+-----------+----+-----------------+-------------------+\n",
            "| R84VUCDBCI29U|          3|           18|         28|   Y|                N|                64%|\n",
            "| R4V3ICFDTIDIF|          4|           20|         21|   Y|                N|                95%|\n",
            "|R1JZ0JAPW83WFS|          4|           54|         58|   Y|                N|                93%|\n",
            "|R1XH7EA97FAVP7|          3|           35|         44|   Y|                N|                80%|\n",
            "|R1482JAU1ZR7QH|          4|           15|         22|   Y|                N|                68%|\n",
            "|R1GGYGVTHP84DG|          4|           25|         27|   Y|                N|                93%|\n",
            "| RXGU9DSKZJSP0|          3|           21|         22|   Y|                N|                95%|\n",
            "+--------------+-----------+-------------+-----------+----+-----------------+-------------------+\n",
            "\n"
          ]
        }
      ]
    },
    {
      "cell_type": "code",
      "source": [
        "review_unpaid_df=helpful_total_df.filter(col(\"vine\") == 'N')\n",
        "review_unpaid_df.show(20)"
      ],
      "metadata": {
        "colab": {
          "base_uri": "https://localhost:8080/"
        },
        "id": "xl2nqdkVfLm7",
        "outputId": "0d715a62-0f60-4156-a450-658af76606c4"
      },
      "execution_count": 35,
      "outputs": [
        {
          "output_type": "stream",
          "name": "stdout",
          "text": [
            "+--------------+-----------+-------------+-----------+----+-----------------+-------------------+\n",
            "|     review_id|star_rating|helpful_votes|total_votes|vine|verified_purchase|helpful_total_ratio|\n",
            "+--------------+-----------+-------------+-----------+----+-----------------+-------------------+\n",
            "|R2SHXRL6SL1GC9|          3|           25|         26|   N|                Y|                96%|\n",
            "|R2ZC033X86YOY8|          5|           25|         26|   N|                N|                96%|\n",
            "|R2736RJGCOSL80|          5|           19|         20|   N|                Y|                95%|\n",
            "| RRY5DJ6J9BKAX|          5|           19|         21|   N|                Y|                90%|\n",
            "|R2P4PJJ2ROTPBM|          5|           46|         48|   N|                N|                96%|\n",
            "| RO8RAEGB66BKR|          4|           46|         46|   N|                N|               100%|\n",
            "| RRFZ7QZTRJC59|          5|          292|        300|   N|                N|                97%|\n",
            "| RFN4PNRUD1UW2|          4|           21|         22|   N|                N|                95%|\n",
            "| RO7EBJEP7IHIX|          5|           26|         26|   N|                N|               100%|\n",
            "|R1CVS4MK9RTNNP|          2|           11|         22|   N|                N|                50%|\n",
            "| REIWYIGFMEKEV|          5|           26|         30|   N|                Y|                87%|\n",
            "|R2FV27WWRWROZU|          4|           26|         27|   N|                N|                96%|\n",
            "|R30I82JFOSSJMA|          3|           14|         20|   N|                Y|                70%|\n",
            "|R16QHOYRY9QLQU|          5|           36|         39|   N|                N|                92%|\n",
            "|R1CQON45M11K9Q|          5|          125|        131|   N|                Y|                95%|\n",
            "|R1WYWVRXAGND36|          5|           24|         25|   N|                N|                96%|\n",
            "| R6RZ581R948P7|          1|           29|         42|   N|                Y|                69%|\n",
            "| RBRZ21U9GFORT|          5|           28|         33|   N|                N|                85%|\n",
            "|R2Y6OCM9IEH9QO|          1|           12|         21|   N|                N|                57%|\n",
            "|R26I5D95TEK226|          5|           52|         56|   N|                N|                93%|\n",
            "+--------------+-----------+-------------+-----------+----+-----------------+-------------------+\n",
            "only showing top 20 rows\n",
            "\n"
          ]
        }
      ]
    },
    {
      "cell_type": "code",
      "source": [
        "number_of_reviews =vine_df.count()\n",
        "five_star_reviews=vine_df.filter(col(\"star_rating\") == 5).count()\n",
        "paid_count=vine_df.filter((col(\"star_rating\") == 5) & (col(\"vine\")==\"Y\") ).count()\n",
        "unpaid_count=vine_df.filter((col(\"star_rating\") == 5) & (col(\"vine\")==\"N\")).count()"
      ],
      "metadata": {
        "id": "a_hWYIaefhW9"
      },
      "execution_count": 60,
      "outputs": []
    },
    {
      "cell_type": "code",
      "source": [
        "\n",
        "print('Total Reviews: ' + f'{number_of_reviews:,}' )\n",
        "print('Total 5 Star Reviews: ' + f'{five_star_reviews:,}')\n",
        "print('Total Paid 5 Star Reviews: ' + f'{paid_count:,}')\n",
        "print('Total Unpaid 5 Star Reviews: ' + f'{unpaid_count:,}')\n",
        "print('Percent of Paid 5 Star Reviews: ' + f\"{paid_count/five_star_reviews :.2%}\" )\n",
        "print('Percent of Unpaid 5 Star Reviews: ' + f\"{unpaid_count/five_star_reviews :.2%}\" )"
      ],
      "metadata": {
        "colab": {
          "base_uri": "https://localhost:8080/"
        },
        "id": "5P3D90dFoWtT",
        "outputId": "2964a26a-7351-4b81-ebdc-dcb305e53f97"
      },
      "execution_count": 73,
      "outputs": [
        {
          "output_type": "stream",
          "name": "stdout",
          "text": [
            "Total Reviews: 4,751,577\n",
            "Total 5 Star Reviews: 3,290,473\n",
            "Total Paid 5 Star Reviews: 334\n",
            "Total Unpaid 5 Star Reviews: 3,290,139\n",
            "Percent of Paid 5 Star Reviews: 0.01%\n",
            "Percent of Unpaid 5 Star Reviews: 99.99%\n"
          ]
        }
      ]
    },
    {
      "cell_type": "code",
      "source": [
        "vine_count = vine_df.filter(col('vine') == 'Y').count()\n",
        "non_vine_count = vine_df.filter(col('vine') == 'N').count()\n",
        "print('Total Vine Reviews: '  + f'{vine_count:,}')\n",
        "print('Total Non-Vine Reviews: '  + f'{non_vine_count:,}')"
      ],
      "metadata": {
        "colab": {
          "base_uri": "https://localhost:8080/"
        },
        "id": "0-rUx7zhHPKV",
        "outputId": "1186cf7f-f55f-48c2-8715-668d79e4c300"
      },
      "execution_count": 101,
      "outputs": [
        {
          "output_type": "stream",
          "name": "stdout",
          "text": [
            "Total Vine Reviews: 1,933\n",
            "Total Non-Vine Reviews: 4,749,607\n"
          ]
        }
      ]
    },
    {
      "cell_type": "code",
      "source": [
        "print('| Total Reviews | 5 Star Reviews |  Paid 5 Star Reviews | Unpaid 5 Star Reviews | Percent of Paid | Percent of Unpaid | ')\n",
        "print('-----------------------------------------------------------------------------------------------------------------------')\n",
        "str1 = '|   ' + f'{number_of_reviews:,}' + '   |   ' + f'{five_star_reviews:,}' +'    |         ' + f'{paid_count:,}' + '          |        ' + f'{unpaid_count:,}' + '      |'\n",
        "str2 ='      ' +  f'{paid_count/five_star_reviews :.2%}' + '      |      ' + f'{unpaid_count/five_star_reviews :.2%}' + '       |'\n",
        "print(str1 + str2)"
      ],
      "metadata": {
        "colab": {
          "base_uri": "https://localhost:8080/"
        },
        "id": "fAGsmMyT3Tip",
        "outputId": "9293c771-c0dd-4a11-ca3c-641ac1d94eff"
      },
      "execution_count": 96,
      "outputs": [
        {
          "output_type": "stream",
          "name": "stdout",
          "text": [
            "| Total Reviews | 5 Star Reviews |  Paid 5 Star Reviews | Unpaid 5 Star Reviews | Percent of Paid | Percent of Unpaid | \n",
            "-----------------------------------------------------------------------------------------------------------------------\n",
            "|   4,751,577   |   3,290,473    |         334          |        3,290,139      |      0.01%      |      99.99%       |\n"
          ]
        }
      ]
    }
  ]
}